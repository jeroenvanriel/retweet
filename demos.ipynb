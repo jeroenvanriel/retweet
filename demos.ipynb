{
 "cells": [
  {
   "cell_type": "markdown",
   "metadata": {},
   "source": [
    "### Authors:\n",
    "- Soroosh Tayebi Arasteh <soroosh.arasteh@fau.de>\n",
    "- Mehrpad Monajem <mehrpad.monajem@fau.de>\n",
    "- Sundar Sitaula <sundar.sitaula@fau.de>"
   ]
  },
  {
   "cell_type": "markdown",
   "metadata": {},
   "source": [
    "# Sentiment Analysis of the potential Replies that a given Tweet may get\n",
    "\n",
    "\n",
    "This project focuses on a tool that analyses the sentiment of the tweet and aditionally also predicts what would the sentiments be like of the comments or reply that a tweet is likely to get. It basically predicts the most probable sentiment of the comments a tweet can get. We have a sentiment classifier that is trained from the datasets from SemEval-2105 as discussed in the slides earlier.\n",
    "We can see demos of how it classifies the sentiment of tweets and the replies.\n"
   ]
  },
  {
   "cell_type": "markdown",
   "metadata": {},
   "source": [
    "##  Part 1"
   ]
  },
  {
   "cell_type": "markdown",
   "metadata": {},
   "source": [
    "### 1.1. Analysis of the sentiment of a user-defined phrase"
   ]
  },
  {
   "cell_type": "code",
   "execution_count": 1,
   "metadata": {},
   "outputs": [
    {
     "name": "stdout",
     "output_type": "stream",
     "text": [
      "\n",
      "\t \"it is just fuckin awesome!\"\n",
      "-----------------------------------------\n",
      "\t This is a positive phrase!\n",
      "-----------------------------------------\n",
      "Prediction Time: 0m 9s\n"
     ]
    }
   ],
   "source": [
    "from main import *\n",
    "\n",
    "# Enter your phrase below here:\n",
    "PHRASE = \"it is just fuckin awesome!\"\n",
    "\n",
    "main_manual_predict(PHRASE, prediction_mode='Manualpart1')"
   ]
  },
  {
   "cell_type": "markdown",
   "metadata": {},
   "source": [
    "### 1.2. Analysis with real-time downloading of some Tweets from Twitter"
   ]
  },
  {
   "cell_type": "code",
   "execution_count": null,
   "metadata": {},
   "outputs": [
    {
     "name": "stdout",
     "output_type": "stream",
     "text": [
      "The word is: trump - Max number of tweets: 30\n"
     ]
    }
   ],
   "source": [
    "from main import *\n",
    "from data.data_handler import *\n",
    "import pandas as pd\n",
    "\n",
    "# Enter your keyword for searching here:\n",
    "# words = ['trump']\n",
    "words = ['birthday']\n",
    "\n",
    "max_tweet = 30\n",
    "data = post_reply_downloader(words, max_tweet, mode='test')\n",
    "\n",
    "print('tweet:', data.iloc[0][4], main_manual_predict(data.iloc[0][4], prediction_mode='Manualpart1'))\n",
    "it = iter(range(0, len(data)))\n",
    "for tweet in it:\n",
    "    tweet = next(it)\n",
    "    if data.iloc[0][4] ==  data.iloc[tweet][4]:\n",
    "        print('replies:', data.iloc[tweet][8], main_manual_predict(data.iloc[tweet][8], prediction_mode='Manualpart1'))\n",
    "    elif tweet == len(it):\n",
    "        break"
   ]
  },
  {
   "cell_type": "markdown",
   "metadata": {},
   "source": [
    "## Part 2"
   ]
  },
  {
   "cell_type": "markdown",
   "metadata": {},
   "source": [
    "### 2.1. Sentiment Analysis of the potential Replies that a user-defined phrase may get"
   ]
  },
  {
   "cell_type": "code",
   "execution_count": null,
   "metadata": {},
   "outputs": [],
   "source": [
    "from main import *\n",
    "\n",
    "# Enter your phrase below here:\n",
    "PHRASE = \"I hate really seeing this stuff\"\n",
    "\n",
    "main_manual_predict(PHRASE, prediction_mode='Manualpart2')"
   ]
  },
  {
   "cell_type": "markdown",
   "metadata": {},
   "source": [
    "### 2.2. Sentiment Analysis of the potential Replies of some real-time downloaded Tweets from Twitter"
   ]
  },
  {
   "cell_type": "code",
   "execution_count": null,
   "metadata": {},
   "outputs": [],
   "source": [
    "from main import *\n",
    "from data.data_handler import *\n",
    "import pandas as pd\n",
    "\n",
    "# Enter your keyword for searching here:\n",
    "# words = ['trump']\n",
    "words = ['birthday']\n",
    "\n",
    "max_tweet = 50\n",
    "data = post_reply_downloader(words, max_tweet, mode='test')\n",
    "it = iter(range(0, len(data)))\n",
    "for tweet in it:\n",
    "    print('tweet:', data.iloc[tweet][4], main_manual_predict(data.iloc[tweet][4], prediction_mode='Manualpart2'))\n",
    "    while True:\n",
    "        tweet = next(it)\n",
    "        if data.iloc[0][4] ==  data.iloc[tweet][4]:\n",
    "            print('replies:', data.iloc[tweet][8], main_manual_predict(data.iloc[tweet][8], prediction_mode='Manualpart1'))\n",
    "        elif tweet == len(it):\n",
    "            break\n",
    "        else:\n",
    "            break\n",
    "    break\n"
   ]
  },
  {
   "cell_type": "code",
   "execution_count": null,
   "metadata": {},
   "outputs": [],
   "source": []
  }
 ],
 "metadata": {
  "kernelspec": {
   "display_name": "Python 3",
   "language": "python",
   "name": "python3"
  },
  "language_info": {
   "codemirror_mode": {
    "name": "ipython",
    "version": 3
   },
   "file_extension": ".py",
   "mimetype": "text/x-python",
   "name": "python",
   "nbconvert_exporter": "python",
   "pygments_lexer": "ipython3",
   "version": "3.7.6"
  }
 },
 "nbformat": 4,
 "nbformat_minor": 2
}
