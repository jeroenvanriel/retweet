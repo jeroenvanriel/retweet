{
 "cells": [
  {
   "cell_type": "markdown",
   "metadata": {},
   "source": [
    "### Authors:\n",
    "- Soroosh Tayebi Arasteh <soroosh.arasteh@fau.de>\n",
    "- Mehrpad Monajem <mehrpad.monajem@fau.de>\n",
    "- Sundar Sitaula <sundar.sitaula@fau.de>"
   ]
  },
  {
   "cell_type": "markdown",
   "metadata": {},
   "source": [
    "# Sentiment Analysis of the potential Replies that a given Tweet may get\n",
    "\n",
    "\n",
    "This project focuses on a tool that analyses the sentiment of the tweet and aditionally also predicts what would the sentiments be like of the comments or reply that a tweet is likely to get. It basically predicts the most probable sentiment of the comments a tweet can get. We have a sentiment classifier that is trained from the datasets from SemEval-2105 as discussed in the slides earlier.\n",
    "We can see demos of how it classifies the sentiment of tweets and the replies.\n"
   ]
  },
  {
   "cell_type": "markdown",
   "metadata": {},
   "source": [
    "##  Part 1"
   ]
  },
  {
   "cell_type": "markdown",
   "metadata": {},
   "source": [
    "### 1.1. Analysis of the sentiment of a user-defined phrase"
   ]
  },
  {
   "cell_type": "code",
   "execution_count": null,
   "metadata": {},
   "outputs": [
    {
     "name": "stderr",
     "output_type": "stream",
     "text": [
      ".vector_cache/glove.6B.zip:  17%|█▋        | 147M/862M [00:56<16:17, 731kB/s]     "
     ]
    }
   ],
   "source": [
    "from main import *\n",
    "\n",
    "# Enter your phrase below here:\n",
    "PHRASE = \"We are fighting a war against #racism ^_^\"\n",
    "\n",
    "main_manual_predict(PHRASE, prediction_mode='Manualpart1')"
   ]
  },
  {
   "cell_type": "markdown",
   "metadata": {},
   "source": [
    "### 1.2. Analysis with real-time downloading of some Tweets from Twitter"
   ]
  },
  {
   "cell_type": "code",
   "execution_count": null,
   "metadata": {},
   "outputs": [
    {
     "name": "stdout",
     "output_type": "stream",
     "text": [
      "The word is: birthday - Max number of tweets: 20\n",
      "\n",
      "\t \"Trayvon Martin would have been 25 today. How many 25th birthdays have been stolen from us by white supremacy, gun violence, prejudice, and fear? #BlackLivesMatter\"\n",
      "-----------------------------------------\n",
      "\t This is a negative phrase!\n",
      "-----------------------------------------\n",
      "Prediction Time: 0m 7s\n",
      "tweet: Trayvon Martin would have been 25 today. How many 25th birthdays have been stolen from us by white supremacy, gun violence, prejudice, and fear? #BlackLivesMatter predict: None\n",
      "\n",
      "\t \"@PeteButtigieg How many pieces of cheese have been stolen from us, by you, a rat?\"\n",
      "-----------------------------------------\n",
      "\t This is a neutral phrase!\n",
      "-----------------------------------------\n",
      "Prediction Time: 0m 7s\n",
      "replies: @PeteButtigieg How many pieces of cheese have been stolen from us, by you, a rat? predict: None\n",
      "\n",
      "\t \"@PeteButtigieg Trayvon was a violent criminal. Nothing of value was lost.\"\n",
      "-----------------------------------------\n",
      "\t This is a negative phrase!\n",
      "-----------------------------------------\n",
      "Prediction Time: 0m 7s\n",
      "replies: @PeteButtigieg Trayvon was a violent criminal. Nothing of value was lost. predict: None\n",
      "\n",
      "\t \"@PeteButtigieg you were literally in the military\"\n",
      "-----------------------------------------\n",
      "\t This is a neutral phrase!\n",
      "-----------------------------------------\n",
      "Prediction Time: 0m 7s\n",
      "replies: @PeteButtigieg you were literally in the military predict: None\n",
      "\n",
      "\t \"@PeteButtigieg His accuser was found innocent by a jury of his peers.  That's how we do things in this country.  St… https://t.co/uDXB135CF3\"\n",
      "-----------------------------------------\n",
      "\t This is a negative phrase!\n",
      "-----------------------------------------\n",
      "Prediction Time: 0m 7s\n",
      "replies: @PeteButtigieg His accuser was found innocent by a jury of his peers.  That's how we do things in this country.  St… https://t.co/uDXB135CF3 predict: None\n",
      "\n",
      "\t \"@PeteButtigieg The man who killed Martin isn’t white.\"\n",
      "-----------------------------------------\n",
      "\t This is a neutral phrase!\n",
      "-----------------------------------------\n",
      "Prediction Time: 0m 7s\n",
      "replies: @PeteButtigieg The man who killed Martin isn’t white. predict: None\n",
      "\n",
      "\t \"@PeteButtigieg You have a lot of nerve given your criminal justice record as mayor and the criminal acts you just p… https://t.co/9Dps4t4zk6\"\n",
      "-----------------------------------------\n",
      "\t This is a neutral phrase!\n",
      "-----------------------------------------\n",
      "Prediction Time: 0m 7s\n",
      "replies: @PeteButtigieg You have a lot of nerve given your criminal justice record as mayor and the criminal acts you just p… https://t.co/9Dps4t4zk6 predict: None\n",
      "\n",
      "\t \"@PeteButtigieg The guy who shot him wasn't even white.\"\n",
      "-----------------------------------------\n",
      "\t This is a negative phrase!\n",
      "-----------------------------------------\n",
      "Prediction Time: 0m 7s\n",
      "replies: @PeteButtigieg The guy who shot him wasn't even white. predict: None\n",
      "\n",
      "\t \"@PeteButtigieg We need a president who will do something about this. So not you.\"\n",
      "-----------------------------------------\n",
      "\t This is a neutral phrase!\n",
      "-----------------------------------------\n",
      "Prediction Time: 0m 7s\n",
      "replies: @PeteButtigieg We need a president who will do something about this. So not you. predict: None\n",
      "\n",
      "\t \"@PeteButtigieg Hard to say how many, exact, but here's one.  https://t.co/BkAtXdhqhk\"\n",
      "-----------------------------------------\n",
      "\t This is a neutral phrase!\n",
      "-----------------------------------------\n",
      "Prediction Time: 0m 7s\n",
      "replies: @PeteButtigieg Hard to say how many, exact, but here's one.  https://t.co/BkAtXdhqhk predict: None\n",
      "\n",
      "\t \"@PeteButtigieg Thats enough buttguy.\"\n",
      "-----------------------------------------\n",
      "\t This is a neutral phrase!\n",
      "-----------------------------------------\n",
      "Prediction Time: 0m 7s\n",
      "replies: @PeteButtigieg Thats enough buttguy. predict: None\n",
      "\n",
      "\t \"@PeteButtigieg Don’t  try and pander to us. It aint working. We are smarter and more informed than you give us credit for.\"\n",
      "-----------------------------------------\n",
      "\t This is a positive phrase!\n",
      "-----------------------------------------\n",
      "Prediction Time: 0m 7s\n",
      "replies: @PeteButtigieg Don’t  try and pander to us. It aint working. We are smarter and more informed than you give us credit for. predict: None\n",
      "\n",
      "\t \"@PeteButtigieg #BlackLivesMatter...unless they show up to a Pete event  #MayorCheat\"\n",
      "-----------------------------------------\n",
      "\t This is a neutral phrase!\n",
      "-----------------------------------------\n",
      "Prediction Time: 0m 7s\n",
      "replies: @PeteButtigieg #BlackLivesMatter...unless they show up to a Pete event  #MayorCheat predict: None\n",
      "\n",
      "\t \"@PeteButtigieg Ok what are you gonna do about it?\"\n",
      "-----------------------------------------\n",
      "\t This is a neutral phrase!\n",
      "-----------------------------------------\n",
      "Prediction Time: 0m 7s\n",
      "replies: @PeteButtigieg Ok what are you gonna do about it? predict: None\n",
      "\n",
      "\t \"@PeteButtigieg Remember when his team spread the racist lie that black didn’t support him because he’s gay? Or reme… https://t.co/htwI8UnV4U\"\n",
      "-----------------------------------------\n",
      "\t This is a negative phrase!\n",
      "-----------------------------------------\n",
      "Prediction Time: 0m 7s\n",
      "replies: @PeteButtigieg Remember when his team spread the racist lie that black didn’t support him because he’s gay? Or reme… https://t.co/htwI8UnV4U predict: None\n",
      "\n",
      "\t \"@PeteButtigieg The case, while tragic, was essentially a lie with a false witness pretending to be a totally differ… https://t.co/m7e7fkVri1\"\n",
      "-----------------------------------------\n",
      "\t This is a negative phrase!\n",
      "-----------------------------------------\n",
      "Prediction Time: 0m 7s\n",
      "replies: @PeteButtigieg The case, while tragic, was essentially a lie with a false witness pretending to be a totally differ… https://t.co/m7e7fkVri1 predict: None\n",
      "\n",
      "\t \"@PeteButtigieg You fired your black police chief for no reason\"\n",
      "-----------------------------------------\n",
      "\t This is a neutral phrase!\n",
      "-----------------------------------------\n",
      "Prediction Time: 0m 8s\n",
      "replies: @PeteButtigieg You fired your black police chief for no reason predict: None\n"
     ]
    }
   ],
   "source": [
    "from main import *\n",
    "from data.data_handler import *\n",
    "import pandas as pd\n",
    "\n",
    "# Enter your keyword for searching here:\n",
    "word = ['birthday']\n",
    "\n",
    "max_tweet = 20\n",
    "data = post_reply_downloader(word, max_tweet, mode='test')\n",
    "\n",
    "print('tweet:', data.iloc[0][4], 'predict:', main_manual_predict(data.iloc[0][4]))\n",
    "for i in range(len(data)):\n",
    "    if data.iloc[0][4] ==  data.iloc[i+1][4]:\n",
    "        print('replies:', data.iloc[i][8], 'predict:', main_manual_predict(data.iloc[i][8]))\n",
    "    elif i == 10 or  data.iloc[0][4] !=  data.iloc[i][4] :\n",
    "        break"
   ]
  },
  {
   "cell_type": "markdown",
   "metadata": {},
   "source": [
    "## Part 2"
   ]
  },
  {
   "cell_type": "markdown",
   "metadata": {},
   "source": [
    "### 2.1. Sentiment Analysis of the potential Replies that a user-defined phrase may get"
   ]
  },
  {
   "cell_type": "code",
   "execution_count": 5,
   "metadata": {},
   "outputs": [
    {
     "name": "stdout",
     "output_type": "stream",
     "text": [
      "\n",
      "\t \"I hate really seeing this stuff\"\n",
      "-----------------------------------------\n",
      "\t This phrase is likely to get neutral replies!\n",
      "-----------------------------------------\n",
      "Prediction Time: 0m 3s\n"
     ]
    }
   ],
   "source": [
    "from main import *\n",
    "\n",
    "# Enter your phrase below here:\n",
    "PHRASE = \"I hate really seeing this stuff\"\n",
    "\n",
    "main_manual_predict(PHRASE, prediction_mode='Manualpart2')"
   ]
  },
  {
   "cell_type": "markdown",
   "metadata": {},
   "source": [
    "### 2.2. Sentiment Analysis of the potential Replies of some real-time downloaded Tweets from Twitter"
   ]
  },
  {
   "cell_type": "code",
   "execution_count": null,
   "metadata": {},
   "outputs": [],
   "source": [
    "from main import *\n",
    "from data.data_handler import *\n",
    "import pandas as pd\n",
    "\n",
    "# Enter your keyword for searching here:\n",
    "# words = ['trump']\n",
    "words = ['birthday']\n",
    "\n",
    "max_tweet = 50\n",
    "data = post_reply_downloader(words, max_tweet, mode='test')\n",
    "it = iter(range(0, len(data)))\n",
    "for tweet in it:\n",
    "    print('tweet:', data.iloc[tweet][4], main_manual_predict(data.iloc[tweet][4], prediction_mode='Manualpart2'))\n",
    "    while True:\n",
    "        tweet = next(it)\n",
    "        if data.iloc[0][4] ==  data.iloc[tweet][4]:\n",
    "            print('replies:', data.iloc[tweet][8], main_manual_predict(data.iloc[tweet][8], prediction_mode='Manualpart1'))\n",
    "        elif tweet == len(it):\n",
    "            break\n",
    "        else:\n",
    "            break\n",
    "    break"
   ]
  }
 ],
 "metadata": {
  "kernelspec": {
   "display_name": "Python 3",
   "language": "python",
   "name": "python3"
  },
  "language_info": {
   "codemirror_mode": {
    "name": "ipython",
    "version": 3
   },
   "file_extension": ".py",
   "mimetype": "text/x-python",
   "name": "python",
   "nbconvert_exporter": "python",
   "pygments_lexer": "ipython3",
   "version": "3.7.5"
  }
 },
 "nbformat": 4,
 "nbformat_minor": 2
}
