{
 "cells": [
  {
   "cell_type": "markdown",
   "metadata": {},
   "source": [
    "## Training for CBOW Word Embeddings\n",
    "In this notebook we would like to employ the CBOW algorithm to output pretrained word embeddings, which will be used to perform text classification. The text classification will be performed on real-time tweets obtained from the Twitter Public Streaming API. Once we have classified the tweet, we can then further process them and index (store) in an Elasticsearch index (data storage). The Elasticsearch index will serve as a real-time, fast search engine, which will allows us to perform different kinds of analyses and visualizations on the classified and preprocessed tweets using Kibana."
   ]
  },
  {
   "cell_type": "markdown",
   "metadata": {},
   "source": [
    "### Importing Libraries\n",
    "The first thing is to import the libraries."
   ]
  },
  {
   "cell_type": "code",
   "execution_count": 1,
   "metadata": {},
   "outputs": [
    {
     "name": "stdout",
     "output_type": "stream",
     "text": [
      "0.4.1\n"
     ]
    }
   ],
   "source": [
    "import helpers.pickle_helpers as ph\n",
    "import pandas as pd\n",
    "import re\n",
    "import collections\n",
    "import numpy as np\n",
    "import torch\n",
    "import torch.nn as nn\n",
    "from torch.autograd import Variable\n",
    "import torch.optim as optim\n",
    "import matplotlib.pyplot as plt\n",
    "%matplotlib inline\n",
    "import torch.nn.functional as F\n",
    "\n",
    "### checking PyTorch version\n",
    "print(torch.__version__)"
   ]
  },
  {
   "cell_type": "markdown",
   "metadata": {},
   "source": [
    "### Data Loading\n",
    "The data has been preprocessed, cleaned, and formated as a pandas dataframe. Below you can see the code used for importing the dataframes. Dataframes allow us to perform basic statistics and transformations to our dataset. Although it is not mandatory to have our data in such format, I strongly recommend it for in case you like to perform some extra analysis on your dataset."
   ]
  },
  {
   "cell_type": "code",
   "execution_count": 2,
   "metadata": {},
   "outputs": [],
   "source": [
    "### load the traing and test dataframes\n",
    "train_data = ph.load_from_pickle(directory=\"data/datasets/df_grained_tweet_tr.pkl\")\n",
    "test_data = ph.load_from_pickle(directory=\"data/datasets/df_grained_tweet_te_unbal.pkl\")\n",
    "\n",
    "###  renaming the column names of the dataframe\n",
    "train_data.rename(index=str, columns={\"emo\":\"emotions\", \"sentence\": \"text\"}, inplace=True);\n",
    "test_data.rename(index=str, columns={\"emo\":\"emotions\", \"sentence\": \"text\"}, inplace=True);\n",
    "\n",
    "### remove hashtags to avoid any bias from them\n",
    "train_data.text = train_data.text.str.replace(\" <hashtag>\", \"\")\n",
    "test_data.text = test_data.text.str.replace(\" <hashtag>\", \"\")"
   ]
  },
  {
   "cell_type": "markdown",
   "metadata": {},
   "source": [
    "### Emotion Distribution\n",
    "We can now explore the distribution of our dataset."
   ]
  },
  {
   "cell_type": "code",
   "execution_count": 3,
   "metadata": {},
   "outputs": [
    {
     "data": {
      "text/plain": [
       "<matplotlib.axes._subplots.AxesSubplot at 0x7f1cba469320>"
      ]
     },
     "execution_count": 3,
     "metadata": {},
     "output_type": "execute_result"
    },
    {
     "data": {
      "image/png": "[encoded data removed]",
      "text/plain": [
       "<Figure size 432x288 with 1 Axes>"
      ]
     },
     "metadata": {
      "needs_background": "light"
     },
     "output_type": "display_data"
    }
   ],
   "source": [
    "train_data.emotions.value_counts().plot(kind=\"bar\", rot=0)"
   ]
  },
  {
   "cell_type": "markdown",
   "metadata": {},
   "source": [
    "### Processing and Creating Vocabulary\n",
    "Before training and constructing the word embeddings we need to process the data and create a vocabulary. The functions below achieve these two things."
   ]
  },
  {
   "cell_type": "code",
   "execution_count": 4,
   "metadata": {},
   "outputs": [],
   "source": [
    "def clearstring(string):\n",
    "    \"\"\" clean tweets \"\"\"\n",
    "    string = re.sub('[^\\'\\\"A-Za-z0-9 ]+', '', string)\n",
    "    string = string.split(' ')\n",
    "    string = filter(None, string)\n",
    "    string = [y.strip() for y in string]\n",
    "    string = [y for y in string if len(y) > 3 and y.find('nbsp') < 0]\n",
    "    return ' '.join(string)\n",
    "\n",
    "def read_data():\n",
    "    \"\"\" generate vocabulary \"\"\"\n",
    "    vocab = []\n",
    "    text = train_data.text.values.tolist()\n",
    "    for t in text:\n",
    "        strings = clearstring(t)\n",
    "        vocab+=strings.split()\n",
    "    return vocab"
   ]
  },
  {
   "cell_type": "code",
   "execution_count": 5,
   "metadata": {},
   "outputs": [
    {
     "name": "stdout",
     "output_type": "stream",
     "text": [
      "example 10 words: ['love', 'with', 'midi', 'skirt', 'woooo', 'usermention', 'holme', 'upon', 'spalding', 'moor']\n",
      "size corpus: 3698224\n",
      "size of unique words: 92095\n"
     ]
    }
   ],
   "source": [
    "### build the vocabulary\n",
    "vocabulary = read_data()\n",
    "print(\"example 10 words:\", vocabulary[:10])\n",
    "print('size corpus:',len(vocabulary))\n",
    "vocabulary_size = len(list(set(vocabulary)))\n",
    "print('size of unique words:',vocabulary_size)"
   ]
  },
  {
   "cell_type": "code",
   "execution_count": 6,
   "metadata": {},
   "outputs": [
    {
     "data": {
      "text/plain": [
       "['love',\n",
       " 'with',\n",
       " 'midi',\n",
       " 'skirt',\n",
       " 'woooo',\n",
       " 'usermention',\n",
       " 'holme',\n",
       " 'upon',\n",
       " 'spalding',\n",
       " 'moor']"
      ]
     },
     "execution_count": 6,
     "metadata": {},
     "output_type": "execute_result"
    }
   ],
   "source": [
    "### print the vocabulary\n",
    "vocabulary[:10]"
   ]
  },
  {
   "cell_type": "markdown",
   "metadata": {},
   "source": [
    "### Build The Dataset\n",
    "Now that we have the vocabulary, we would like to format our dataset into sequence of tokens represented by the index of those tokens in the vocabulary. Look at the code below to see how this can be achieved. In particular note the example of how to convert the data to sequence of indexed tokens. The reason the index is necessary is because this is needed by the model in order to identify words by their ids instead of their actual raw representation (i.e., letters)."
   ]
  },
  {
   "cell_type": "code",
   "execution_count": 7,
   "metadata": {},
   "outputs": [],
   "source": [
    "def build_dataset(words, n_words):\n",
    "    count = [['UNK', -1]]\n",
    "    count.extend(collections.Counter(words).most_common(n_words - 1))\n",
    "    dictionary = dict()\n",
    "    for word, _ in count:\n",
    "        dictionary[word] = len(dictionary) # increase index as words added\n",
    "    data = list()\n",
    "    unk_count = 0\n",
    "    for word in words:\n",
    "        if word in dictionary:\n",
    "            index = dictionary[word]\n",
    "        else:\n",
    "            index = 0  # dictionary['UNK']\n",
    "            unk_count += 1\n",
    "        data.append(index)\n",
    "    count[0][1] = unk_count\n",
    "    reverse_dictionary = dict(zip(dictionary.values(), dictionary.keys()))\n",
    "    return data, count, dictionary, reverse_dictionary"
   ]
  },
  {
   "cell_type": "code",
   "execution_count": 8,
   "metadata": {},
   "outputs": [],
   "source": [
    "data, count, dictionary, reverse_dictionary = build_dataset(vocabulary, vocabulary_size)\n",
    "del vocabulary"
   ]
  },
  {
   "cell_type": "code",
   "execution_count": 9,
   "metadata": {},
   "outputs": [
    {
     "name": "stdout",
     "output_type": "stream",
     "text": [
      "Most common words (+UNK) [['UNK', 1], ('usermention', 147536), ('this', 52001), ('just', 51505), ('that', 50171)]\n",
      "Sample data [34, 5, 16555, 3984, 2340, 1, 30165, 2511, 30166, 24865, 1075, 1815, 161, 97, 117] ['love', 'with', 'midi', 'skirt', 'woooo', 'usermention', 'holme', 'upon', 'spalding', 'moor', 'rock', 'challenge', 'please', 'well', 'done']\n"
     ]
    }
   ],
   "source": [
    "print('Most common words (+UNK)', count[:5])\n",
    "print('Sample data', data[:15], [reverse_dictionary[i] for i in data[:15]])"
   ]
  },
  {
   "cell_type": "code",
   "execution_count": 10,
   "metadata": {},
   "outputs": [
    {
     "data": {
      "text/plain": [
       "3698224"
      ]
     },
     "execution_count": 10,
     "metadata": {},
     "output_type": "execute_result"
    }
   ],
   "source": [
    "len(data)"
   ]
  },
  {
   "cell_type": "markdown",
   "metadata": {},
   "source": [
    "### Generating Batches\n",
    "For training the CBOW model with the input sequences of tokens, we need to generate batches and feed those to the model. The batches will be of a particular size, in this case 8, and also context window, which determines the final size of the input sequence. For instance, if the context window size is 1, then we have a target and two context words, which means that the sequence size results in three tokens. See the code below for how to achieve this."
   ]
  },
  {
   "cell_type": "code",
   "execution_count": 11,
   "metadata": {},
   "outputs": [],
   "source": [
    "data_index = 0\n",
    "\n",
    "def generate_batch(batch_size, context_window):\n",
    "    # all context tokens should be used, hence no associated num_skips argument\n",
    "    global data_index\n",
    "    context_size = 2 * context_window\n",
    "    batch = np.ndarray(shape=(batch_size, context_size), dtype=np.int32)\n",
    "    labels = np.ndarray(shape=(batch_size, 1), dtype=np.int32)\n",
    "    span = 2 * context_window + 1  # [ context_window target context_window ]\n",
    "    buffer = collections.deque(maxlen=span)\n",
    "    for _ in range(span):\n",
    "        buffer.append(data[data_index])\n",
    "        data_index = (data_index + 1) % len(data)\n",
    "    for i in range(batch_size):\n",
    "        # context tokens are just all the tokens in buffer except the target\n",
    "        batch[i, :] = [token for idx, token in enumerate(buffer) if idx != context_window]\n",
    "        labels[i, 0] = buffer[context_window]\n",
    "        buffer.append(data[data_index])\n",
    "        data_index = (data_index + 1) % len(data)\n",
    "    data_index-=1\n",
    "    return batch, labels"
   ]
  },
  {
   "cell_type": "code",
   "execution_count": 12,
   "metadata": {},
   "outputs": [],
   "source": [
    "batch, labels = generate_batch(batch_size=8, context_window=1)"
   ]
  },
  {
   "cell_type": "code",
   "execution_count": 13,
   "metadata": {},
   "outputs": [
    {
     "data": {
      "text/plain": [
       "[('love', 34),\n",
       " ('with', 5),\n",
       " ('midi', 16555),\n",
       " ('skirt', 3984),\n",
       " ('woooo', 2340),\n",
       " ('usermention', 1),\n",
       " ('holme', 30165),\n",
       " ('upon', 2511),\n",
       " ('spalding', 30166),\n",
       " ('moor', 24865)]"
      ]
     },
     "execution_count": 13,
     "metadata": {},
     "output_type": "execute_result"
    }
   ],
   "source": [
    "[(reverse_dictionary[i],i) for i in data[:10]]"
   ]
  },
  {
   "cell_type": "code",
   "execution_count": 14,
   "metadata": {},
   "outputs": [
    {
     "data": {
      "text/plain": [
       "[34, 5, 16555, 3984, 2340, 1, 30165, 2511, 30166, 24865]"
      ]
     },
     "execution_count": 14,
     "metadata": {},
     "output_type": "execute_result"
    }
   ],
   "source": [
    "data[:10]"
   ]
  },
  {
   "cell_type": "code",
   "execution_count": 16,
   "metadata": {},
   "outputs": [
    {
     "name": "stdout",
     "output_type": "stream",
     "text": [
      "34 love 16555 midi -> 5 with\n",
      "5 with 3984 skirt -> 16555 midi\n",
      "16555 midi 2340 woooo -> 3984 skirt\n",
      "3984 skirt 1 usermention -> 2340 woooo\n",
      "2340 woooo 30165 holme -> 1 usermention\n",
      "1 usermention 2511 upon -> 30165 holme\n",
      "30165 holme 30166 spalding -> 2511 upon\n",
      "2511 upon 24865 moor -> 30166 spalding\n"
     ]
    }
   ],
   "source": [
    "### a batch sample\n",
    "for i in range(8):\n",
    "    print(batch[i, 0], reverse_dictionary[batch[i, 0]],\n",
    "          batch[i, 1], reverse_dictionary[batch[i, 1]],\n",
    "          '->', labels[i, 0], reverse_dictionary[labels[i, 0]])"
   ]
  },
  {
   "cell_type": "markdown",
   "metadata": {},
   "source": [
    "### Model\n",
    "Now that we have a function to generate batches of sequences, which we can feed to the mode, it's time to actually build the model. The model we will use here is a one layer feed forward neural network, which train with the goal to learn parameters that will represent the values of the word embeddings. See code below for the model we will use to train the embeddings. It is assumed that you are familiar with PyTorch to understand the code below. "
   ]
  },
  {
   "cell_type": "code",
   "execution_count": 18,
   "metadata": {},
   "outputs": [],
   "source": [
    "class EmoCBOW(nn.Module):\n",
    "    def __init__(self, vocab_size, embedding_dim, context_size):\n",
    "        super(EmoCBOW, self).__init__()\n",
    "        self.context_size = context_size\n",
    "        self.embeddings = nn.Embedding(vocab_size, embedding_dim)\n",
    "        self.linear = nn.Linear(embedding_dim, vocab_size)\n",
    "    \n",
    "    def forward(self, inputs):\n",
    "        # batch_size X context X embedding_dim\n",
    "        embeds = self.embeddings(inputs)\n",
    "        average_embeds = torch.mean(embeds, dim=1)\n",
    "        out = self.linear(average_embeds) \n",
    "        log_probs = F.log_softmax(out, dim=1)\n",
    "        return log_probs\n",
    "    \n",
    "    def get_word_emdedding(self, word):\n",
    "        word = Variable(torch.LongTensor([dictionary[word]]).cuda())\n",
    "        return self.embeddings(word).view(1,-1)"
   ]
  },
  {
   "cell_type": "markdown",
   "metadata": {},
   "source": [
    "### Pretesting Model\n",
    "We would like to test the model with a sample batch before we do the actual training of the word embeddings. Below is sample code on how to achieve this. "
   ]
  },
  {
   "cell_type": "code",
   "execution_count": 19,
   "metadata": {},
   "outputs": [
    {
     "name": "stdout",
     "output_type": "stream",
     "text": [
      "torch.Size([8, 92095])\n"
     ]
    }
   ],
   "source": [
    "### test with one batch\n",
    "context_batch, target_batch = generate_batch(batch_size=8, context_window=1)\n",
    "\n",
    "context_var = Variable(torch.LongTensor(context_batch))\n",
    "### print(context_var)\n",
    "dummy_model = EmoCBOW(vocab_size=vocabulary_size, embedding_dim=10, context_size=1)\n",
    "log_probs = dummy_model(context_var)\n",
    "print(log_probs.size())\n",
    "\n",
    "data_index = 0 # reset index"
   ]
  },
  {
   "cell_type": "markdown",
   "metadata": {},
   "source": [
    "### Training\n",
    "Now it's time to train the model. Again, I assume you are familiar with the particular bit you need to perform the training with PyTorch. While the model is training you see an output loss which indicates whether the model is learning. We train for a lot of steps, so be patient and if everything went right, you should see the loss decreasing and the model converging, which means that the word embeddings are getting better. I have stopped in the process below, but you can let it train for a couple of steps, or even let it run for the full number of steps I defined. The time of training will vary but usually it takes a while for the model to train the embeddings. "
   ]
  },
  {
   "cell_type": "code",
   "execution_count": 22,
   "metadata": {},
   "outputs": [
    {
     "name": "stdout",
     "output_type": "stream",
     "text": [
      "Average loss at step 0 :  11.477616\n",
      "Average loss at step 2000 :  9.01468\n"
     ]
    },
    {
     "ename": "KeyboardInterrupt",
     "evalue": "",
     "output_type": "error",
     "traceback": [
      "\u001b[0;31m---------------------------------------------------------------------------\u001b[0m",
      "\u001b[0;31mKeyboardInterrupt\u001b[0m                         Traceback (most recent call last)",
      "\u001b[0;32m<ipython-input-22-6aa07c3fbcb5>\u001b[0m in \u001b[0;36m<module>\u001b[0;34m()\u001b[0m\n\u001b[1;32m     13\u001b[0m \u001b[0;32mfor\u001b[0m \u001b[0mstep\u001b[0m \u001b[0;32min\u001b[0m \u001b[0mrange\u001b[0m\u001b[0;34m(\u001b[0m\u001b[0mnum_steps\u001b[0m\u001b[0;34m)\u001b[0m\u001b[0;34m:\u001b[0m\u001b[0;34m\u001b[0m\u001b[0m\n\u001b[1;32m     14\u001b[0m     \u001b[0mbatch_inputs\u001b[0m\u001b[0;34m,\u001b[0m \u001b[0mbatch_labels\u001b[0m \u001b[0;34m=\u001b[0m \u001b[0mgenerate_batch\u001b[0m\u001b[0;34m(\u001b[0m\u001b[0mBATCH_SIZE\u001b[0m\u001b[0;34m,\u001b[0m \u001b[0mCONTEXT_WINDOW\u001b[0m\u001b[0;34m)\u001b[0m\u001b[0;34m\u001b[0m\u001b[0m\n\u001b[0;32m---> 15\u001b[0;31m     \u001b[0mcontext_var\u001b[0m \u001b[0;34m=\u001b[0m \u001b[0mVariable\u001b[0m\u001b[0;34m(\u001b[0m\u001b[0mtorch\u001b[0m\u001b[0;34m.\u001b[0m\u001b[0mLongTensor\u001b[0m\u001b[0;34m(\u001b[0m\u001b[0mbatch_inputs\u001b[0m\u001b[0;34m)\u001b[0m\u001b[0;34m.\u001b[0m\u001b[0mcuda\u001b[0m\u001b[0;34m(\u001b[0m\u001b[0;34m)\u001b[0m\u001b[0;34m)\u001b[0m\u001b[0;34m\u001b[0m\u001b[0m\n\u001b[0m\u001b[1;32m     16\u001b[0m     \u001b[0mtargets\u001b[0m \u001b[0;34m=\u001b[0m \u001b[0mVariable\u001b[0m\u001b[0;34m(\u001b[0m\u001b[0mtorch\u001b[0m\u001b[0;34m.\u001b[0m\u001b[0msqueeze\u001b[0m\u001b[0;34m(\u001b[0m\u001b[0mtorch\u001b[0m\u001b[0;34m.\u001b[0m\u001b[0mLongTensor\u001b[0m\u001b[0;34m(\u001b[0m\u001b[0mbatch_labels\u001b[0m\u001b[0;34m)\u001b[0m\u001b[0;34m.\u001b[0m\u001b[0mcuda\u001b[0m\u001b[0;34m(\u001b[0m\u001b[0;34m)\u001b[0m\u001b[0;34m)\u001b[0m\u001b[0;34m)\u001b[0m\u001b[0;34m\u001b[0m\u001b[0m\n\u001b[1;32m     17\u001b[0m     \u001b[0mmodel\u001b[0m\u001b[0;34m.\u001b[0m\u001b[0mzero_grad\u001b[0m\u001b[0;34m(\u001b[0m\u001b[0;34m)\u001b[0m\u001b[0;34m\u001b[0m\u001b[0m\n",
      "\u001b[0;31mKeyboardInterrupt\u001b[0m: "
     ]
    }
   ],
   "source": [
    "BATCH_SIZE = 128\n",
    "EMBEDDING_DIM = 128\n",
    "CONTEXT_WINDOW = 2\n",
    "num_steps = 100000\n",
    "plot_every = 2000\n",
    "\n",
    "losses = []\n",
    "model = EmoCBOW(vocabulary_size, EMBEDDING_DIM, CONTEXT_WINDOW)\n",
    "model.cuda()\n",
    "optimizer = optim.SGD(model.parameters(), lr=1.0)\n",
    "\n",
    "average_loss = 0\n",
    "for step in range(num_steps):\n",
    "    batch_inputs, batch_labels = generate_batch(BATCH_SIZE, CONTEXT_WINDOW)\n",
    "    context_var = Variable(torch.LongTensor(batch_inputs).cuda())\n",
    "    targets = Variable(torch.squeeze(torch.LongTensor(batch_labels).cuda()))\n",
    "    model.zero_grad()\n",
    "   \n",
    "    log_probs = model(context_var) # inputs are context vectors\n",
    "    loss = F.nll_loss(log_probs, targets) # criterion\n",
    "    loss.backward()\n",
    "    optimizer.step()\n",
    "    average_loss += loss.data\n",
    "    \n",
    "    if step % plot_every == 0:\n",
    "        if step > 0:\n",
    "            average_loss /= plot_every\n",
    "        print(\"Average loss at step\", step, \": \", average_loss.cpu().numpy())\n",
    "        average_loss = 0"
   ]
  },
  {
   "cell_type": "markdown",
   "metadata": {},
   "source": [
    "### Store the Embeddings\n",
    "After you have trained the embeddings, you know want to store them and reuse them for some downstream task like sentiment classification. Essentially, you will be using the embeddings as input features for a model to conduct some task. The format you store the embeddings doesn't really matter, for as long as you can retrieve them easily and efficiently in the future. I am storing the embeddings in numpy in this notebook and further converting the matrix into pickle file. Notice that we are also storing the vocabulary since we will need it again when training our text classifier."
   ]
  },
  {
   "cell_type": "code",
   "execution_count": 20,
   "metadata": {},
   "outputs": [],
   "source": [
    "embeddings = model.embeddings.weight.data.cpu().numpy()"
   ]
  },
  {
   "cell_type": "code",
   "execution_count": 21,
   "metadata": {},
   "outputs": [],
   "source": [
    "ph.convert_to_pickle(directory=\"data/hashtags_word_embeddings/es_py_cbow_embeddings.p\", item=embeddings)\n",
    "ph.convert_to_pickle(directory=\"data/hashtags_word_embeddings/es_py_cbow_dictionary.p\", item=dictionary)"
   ]
  }
 ],
 "metadata": {
  "kernelspec": {
   "display_name": "Python 3",
   "language": "python",
   "name": "python3"
  },
  "language_info": {
   "codemirror_mode": {
    "name": "ipython",
    "version": 3
   },
   "file_extension": ".py",
   "mimetype": "text/x-python",
   "name": "python",
   "nbconvert_exporter": "python",
   "pygments_lexer": "ipython3",
   "version": "3.6.0"
  }
 },
 "nbformat": 4,
 "nbformat_minor": 2
}
