{
 "cells": [
  {
   "cell_type": "markdown",
   "metadata": {
    "colab_type": "text",
    "id": "s3c4iZJBf-Nd"
   },
   "source": [
    "## Part 5 - Evaluating NLP Models\n",
    "\n",
    "**Total time: 10 minutes **\n",
    "\n",
    "This block is an immediate continuation of the previous block. This is because most of the code used in the tutorial should have been implemented by this point. This block will consist of testing and debugging the model so it needs to be hands-on.\n",
    " \n",
    " ---\n",
    " \n",
    " ### Journey\n",
    " - Load Model\n",
    " - Evaluate Model\n",
    " - Confusion Matrix\n",
    " - **Exercise:** Inferencing"
   ]
  },
  {
   "cell_type": "markdown",
   "metadata": {
    "colab_type": "text",
    "id": "cOQMyIyThKtb"
   },
   "source": [
    "### Load the stored model\n",
    "Load the stored model from previous model and continue training show how to do it here."
   ]
  },
  {
   "cell_type": "code",
   "execution_count": 0,
   "metadata": {
    "colab": {},
    "colab_type": "code",
    "id": "OvV4NORMhJg1"
   },
   "outputs": [],
   "source": [
    "model = torch.load('/gdrive/My Drive/pycon2019/emogru')"
   ]
  },
  {
   "cell_type": "markdown",
   "metadata": {
    "colab_type": "text",
    "id": "1XIFyoaFjBtH"
   },
   "source": [
    "### Evaluating the Model"
   ]
  },
  {
   "cell_type": "code",
   "execution_count": 0,
   "metadata": {
    "colab": {
     "base_uri": "https://localhost:8080/",
     "height": 34
    },
    "colab_type": "code",
    "id": "34syNIIAl08q",
    "outputId": "577df89b-e846-40d0-9af1-7cfaf3cca84c"
   },
   "outputs": [
    {
     "name": "stdout",
     "output_type": "stream",
     "text": [
      "Test Accuracy:  92.37179487179488\n"
     ]
    }
   ],
   "source": [
    "test_accuracy = 0\n",
    "all_predictions = []\n",
    "x_raw = []\n",
    "y_raw = []\n",
    "\n",
    "device = \"cuda\" # we don't need GPU to do testing\n",
    "model.to(\"cuda\")\n",
    "\n",
    "for (batch, (inp, targ, lens)) in enumerate(test_dataset):          \n",
    "    predictions,_ = model(inp.permute(1, 0).to(device), lens, device)        \n",
    "    batch_accuracy = accuracy(targ.to(device), predictions)\n",
    "    test_accuracy += batch_accuracy\n",
    "    \n",
    "    x_raw = x_raw + [x for x in inp]\n",
    "    y_raw = y_raw + [y for y in targ]\n",
    "    \n",
    "    all_predictions.append(predictions)\n",
    "    \n",
    "print(\"Test Accuracy: \", test_accuracy.cpu().detach().numpy() / TEST_N_BATCH)"
   ]
  },
  {
   "cell_type": "markdown",
   "metadata": {
    "colab_type": "text",
    "id": "Gli44L83mU_Z"
   },
   "source": [
    "### Confusion Matrix\n",
    "The test accuracy alone is not an interesting performance metric in this case. Let's plot a confusion matrix to get a drilled down view of how the model is performing with regards to each emotion."
   ]
  },
  {
   "cell_type": "code",
   "execution_count": 0,
   "metadata": {
    "colab": {},
    "colab_type": "code",
    "id": "NGGYAbwKmUQ2"
   },
   "outputs": [],
   "source": [
    "import matplotlib.pyplot as plt\n",
    "%matplotlib inline\n",
    "import numpy as np\n",
    "import pandas as pd\n",
    "import itertools\n",
    "import pandas as pd\n",
    "from scipy import stats\n",
    "from sklearn import metrics\n",
    "from sklearn.preprocessing import LabelEncoder\n",
    "\n",
    "\n",
    "# Class to Properly Evaluate our Models\n",
    "class Evaluate():\n",
    "\n",
    "    def evaluate_class(cls, predictions, target, target2=None, silent=False):\n",
    "        \"\"\" Compute only the predicted class \"\"\"\n",
    "        p_2_annotation = dict()\n",
    "\n",
    "        precision_recall_fscore_support = [\n",
    "            (pair[0], pair[1].mean()) for pair in zip(\n",
    "                ['precision', 'recall', 'f1', 'support'],\n",
    "                metrics.precision_recall_fscore_support(target, predictions)\n",
    "            )\n",
    "        ]\n",
    "\n",
    "        metrics.precision_recall_fscore_support(target, predictions)\n",
    "\n",
    "        # confusion matrix\n",
    "        le = LabelEncoder()\n",
    "        target_le = le.fit_transform(target)\n",
    "        predictions_le = le.transform(predictions)\n",
    "        cm = metrics.confusion_matrix(target_le, predictions_le)\n",
    "\n",
    "        # prediction if two annotations are given on test data\n",
    "        if target2:\n",
    "            p_2_annotation = pd.DataFrame(\n",
    "                [(pred, pred in set([t1,t2])) for pred, t1, t2 in zip(predictions, target, target2)],\n",
    "                columns=['emo','success']\n",
    "            ).groupby('emo').apply(lambda emo: emo.success.sum()/ len(emo.success)).to_dict()\n",
    "\n",
    "        if not silent:\n",
    "            print(\"Default Classification report\")\n",
    "            print(metrics.classification_report(target, predictions))\n",
    "\n",
    "            # print if target2 was provided\n",
    "            if len(p_2_annotation) > 0:\n",
    "                print('\\nPrecision on 2 annotations:')\n",
    "                for emo in p_2_annotation:\n",
    "                    print(\"%s: %.2f\" % (emo, p_2_annotation[emo]))\n",
    "\n",
    "            # print accuracies, precision, recall, and f1\n",
    "            print('\\nAccuracy:')\n",
    "            print(metrics.accuracy_score(target, predictions))\n",
    "            print(\"Correct Predictions: \", metrics.accuracy_score(target, predictions,normalize=False))\n",
    "            for to_print in precision_recall_fscore_support[:3]:\n",
    "                print( \"%s: %.2f\" % to_print )\n",
    "\n",
    "            # normalizing the values of the consfusion matrix\n",
    "            print('\\nconfusion matrix\\n %s' % cm)\n",
    "            print('(row=expected, col=predicted)')\n",
    "            cm_normalized = cm.astype('float') / cm.sum(axis=1)[:, np.newaxis]\n",
    "            cls.plot_confusion_matrix(cm_normalized, le.classes_, 'Confusion matrix Normalized')\n",
    "\n",
    "        return {\n",
    "            'precision_recall_fscore_support': precision_recall_fscore_support,\n",
    "            'accuracy': metrics.accuracy_score(target, predictions),\n",
    "            'p_2_annotation': p_2_annotation,\n",
    "            'confusion_matrix': cm\n",
    "        }\n",
    "\n",
    "    def plot_confusion_matrix(cls, cm, my_tags, title='Confusion matrix', cmap=plt.cm.Blues):\n",
    "        \"\"\" Plotting the confusion_matrix\"\"\"\n",
    "        plt.rc('figure', figsize=(4, 4), dpi=100)\n",
    "        plt.imshow(cm, interpolation='nearest', cmap=cmap)\n",
    "        plt.title(title)\n",
    "        plt.colorbar()\n",
    "        tick_marks = np.arange(len(my_tags))\n",
    "        target_names = my_tags\n",
    "        plt.xticks(tick_marks, target_names, rotation=45)\n",
    "        plt.yticks(tick_marks, target_names)\n",
    "        \n",
    "        # add normalized values inside the Confusion matrix\n",
    "        fmt = '.2f'\n",
    "        thresh = cm.max() / 2.\n",
    "        for i, j in itertools.product(range(cm.shape[0]), range(cm.shape[1])):\n",
    "            plt.text(j, i, format(cm[i, j], fmt), horizontalalignment=\"center\", color=\"white\" if cm[i, j] > thresh else \"black\")\n",
    "\n",
    "        plt.tight_layout()\n",
    "        plt.ylabel('True label')\n",
    "        plt.xlabel('Predicted label')"
   ]
  },
  {
   "cell_type": "code",
   "execution_count": 0,
   "metadata": {
    "colab": {
     "base_uri": "https://localhost:8080/",
     "height": 932
    },
    "colab_type": "code",
    "id": "vYUcPaaAnHAQ",
    "outputId": "2be0a851-f654-45d0-f64e-742f7d46d58c"
   },
   "outputs": [
    {
     "name": "stdout",
     "output_type": "stream",
     "text": [
      "Default Classification report\n",
      "              precision    recall  f1-score   support\n",
      "\n",
      "       anger       0.92      0.94      0.93       688\n",
      "        fear       0.86      0.93      0.89       549\n",
      "         joy       0.95      0.94      0.94      1652\n",
      "        love       0.82      0.84      0.83       407\n",
      "     sadness       0.97      0.95      0.96      1508\n",
      "    surprise       0.88      0.78      0.82       188\n",
      "\n",
      "   micro avg       0.93      0.93      0.93      4992\n",
      "   macro avg       0.90      0.90      0.90      4992\n",
      "weighted avg       0.93      0.93      0.93      4992\n",
      "\n",
      "\n",
      "Accuracy:\n",
      "0.9282852564102564\n",
      "Correct Predictions:  4634\n",
      "precision: 0.90\n",
      "recall: 0.90\n",
      "f1: 0.90\n",
      "\n",
      "confusion matrix\n",
      " [[ 646   18    1    1   21    1]\n",
      " [  21  509    2    0    9    8]\n",
      " [   9    2 1553   74    6    8]\n",
      " [   1    0   66  340    0    0]\n",
      " [  24   32    7    2 1440    3]\n",
      " [   0   34    7    0    1  146]]\n",
      "(row=expected, col=predicted)\n"
     ]
    },
    {
     "data": {
      "image/png": "[encoded data removed]",
      "text/plain": [
       "<Figure size 400x400 with 2 Axes>"
      ]
     },
     "metadata": {
      "tags": []
     },
     "output_type": "display_data"
    }
   ],
   "source": [
    "evaluator = Evaluate()\n",
    "\n",
    "final_predictions = []\n",
    "\n",
    "for p in all_predictions:\n",
    "    for sub_p in p:\n",
    "        final_predictions.append(sub_p.cpu().detach().numpy())\n",
    "        \n",
    "predictions = [np.argmax(p).item() for p in final_predictions]\n",
    "targets = [np.argmax(t).item() for t in y_raw]\n",
    "correct_predictions = float(np.sum(predictions == targets))\n",
    "\n",
    "# predictions\n",
    "predictions_human_readable = ((x_raw, predictions))\n",
    "# actual targets\n",
    "target_human_readable = ((x_raw,  targets))\n",
    "\n",
    "emotion_dict = {0: 'anger', 1: 'fear', 2: 'joy', 3: 'love', 4: 'sadness', 5: 'surprise'}\n",
    "\n",
    "# convert results into dataframe\n",
    "model_test_result = pd.DataFrame(predictions_human_readable[1],columns=[\"emotion\"])\n",
    "test = pd.DataFrame(target_human_readable[1], columns=[\"emotion\"])\n",
    "\n",
    "model_test_result.emotion = model_test_result.emotion.map(lambda x: emotion_dict[int(float(x))])\n",
    "test.emotion = test.emotion.map(lambda x: emotion_dict[int(x)])\n",
    "\n",
    "evaluator.evaluate_class(model_test_result.emotion, test.emotion );"
   ]
  }
 ],
 "metadata": {
  "accelerator": "GPU",
  "colab": {
   "name": "Part 5 - Training and Deploying NLP Models",
   "provenance": []
  },
  "kernelspec": {
   "display_name": "Python 3",
   "language": "python",
   "name": "python3"
  },
  "language_info": {
   "codemirror_mode": {
    "name": "ipython",
    "version": 3
   },
   "file_extension": ".py",
   "mimetype": "text/x-python",
   "name": "python",
   "nbconvert_exporter": "python",
   "pygments_lexer": "ipython3",
   "version": "3.7.5"
  }
 },
 "nbformat": 4,
 "nbformat_minor": 1
}
